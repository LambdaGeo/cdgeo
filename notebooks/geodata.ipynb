{
 "cells": [
  {
   "cell_type": "code",
   "execution_count": 5,
   "metadata": {},
   "outputs": [],
   "source": [
    "import geopandas as gpd"
   ]
  },
  {
   "cell_type": "code",
   "execution_count": 7,
   "metadata": {},
   "outputs": [
    {
     "data": {
      "text/html": [
       "<div>\n",
       "<style scoped>\n",
       "    .dataframe tbody tr th:only-of-type {\n",
       "        vertical-align: middle;\n",
       "    }\n",
       "\n",
       "    .dataframe tbody tr th {\n",
       "        vertical-align: top;\n",
       "    }\n",
       "\n",
       "    .dataframe thead th {\n",
       "        text-align: right;\n",
       "    }\n",
       "</style>\n",
       "<table border=\"1\" class=\"dataframe\">\n",
       "  <thead>\n",
       "    <tr style=\"text-align: right;\">\n",
       "      <th></th>\n",
       "      <th>id</th>\n",
       "      <th>left</th>\n",
       "      <th>top</th>\n",
       "      <th>right</th>\n",
       "      <th>bottom</th>\n",
       "      <th>geometry</th>\n",
       "    </tr>\n",
       "  </thead>\n",
       "  <tbody>\n",
       "    <tr>\n",
       "      <th>0</th>\n",
       "      <td>2572.0</td>\n",
       "      <td>4.462975e+06</td>\n",
       "      <td>9.025259e+06</td>\n",
       "      <td>4.492975e+06</td>\n",
       "      <td>8.995259e+06</td>\n",
       "      <td>POLYGON ((4462974.706 9025259.449, 4492974.706...</td>\n",
       "    </tr>\n",
       "    <tr>\n",
       "      <th>1</th>\n",
       "      <td>2569.0</td>\n",
       "      <td>4.462975e+06</td>\n",
       "      <td>9.115259e+06</td>\n",
       "      <td>4.492975e+06</td>\n",
       "      <td>9.085259e+06</td>\n",
       "      <td>POLYGON ((4462974.706 9115259.449, 4492974.706...</td>\n",
       "    </tr>\n",
       "    <tr>\n",
       "      <th>2</th>\n",
       "      <td>2568.0</td>\n",
       "      <td>4.462975e+06</td>\n",
       "      <td>9.145259e+06</td>\n",
       "      <td>4.492975e+06</td>\n",
       "      <td>9.115259e+06</td>\n",
       "      <td>POLYGON ((4462974.706 9145259.449, 4492974.706...</td>\n",
       "    </tr>\n",
       "    <tr>\n",
       "      <th>3</th>\n",
       "      <td>2571.0</td>\n",
       "      <td>4.462975e+06</td>\n",
       "      <td>9.055259e+06</td>\n",
       "      <td>4.492975e+06</td>\n",
       "      <td>9.025259e+06</td>\n",
       "      <td>POLYGON ((4462974.706 9055259.449, 4492974.706...</td>\n",
       "    </tr>\n",
       "    <tr>\n",
       "      <th>4</th>\n",
       "      <td>2570.0</td>\n",
       "      <td>4.462975e+06</td>\n",
       "      <td>9.085259e+06</td>\n",
       "      <td>4.492975e+06</td>\n",
       "      <td>9.055259e+06</td>\n",
       "      <td>POLYGON ((4462974.706 9085259.449, 4492974.706...</td>\n",
       "    </tr>\n",
       "  </tbody>\n",
       "</table>\n",
       "</div>"
      ],
      "text/plain": [
       "       id          left           top         right        bottom  \\\n",
       "0  2572.0  4.462975e+06  9.025259e+06  4.492975e+06  8.995259e+06   \n",
       "1  2569.0  4.462975e+06  9.115259e+06  4.492975e+06  9.085259e+06   \n",
       "2  2568.0  4.462975e+06  9.145259e+06  4.492975e+06  9.115259e+06   \n",
       "3  2571.0  4.462975e+06  9.055259e+06  4.492975e+06  9.025259e+06   \n",
       "4  2570.0  4.462975e+06  9.085259e+06  4.492975e+06  9.055259e+06   \n",
       "\n",
       "                                            geometry  \n",
       "0  POLYGON ((4462974.706 9025259.449, 4492974.706...  \n",
       "1  POLYGON ((4462974.706 9115259.449, 4492974.706...  \n",
       "2  POLYGON ((4462974.706 9145259.449, 4492974.706...  \n",
       "3  POLYGON ((4462974.706 9055259.449, 4492974.706...  \n",
       "4  POLYGON ((4462974.706 9085259.449, 4492974.706...  "
      ]
     },
     "execution_count": 7,
     "metadata": {},
     "output_type": "execute_result"
    }
   ],
   "source": [
    "gdf = gpd.read_file(\"../data/shp/amazonas_grid_30km.zip\")\n",
    "gdf.head()"
   ]
  }
 ],
 "metadata": {
  "kernelspec": {
   "display_name": ".venv",
   "language": "python",
   "name": "python3"
  },
  "language_info": {
   "codemirror_mode": {
    "name": "ipython",
    "version": 3
   },
   "file_extension": ".py",
   "mimetype": "text/x-python",
   "name": "python",
   "nbconvert_exporter": "python",
   "pygments_lexer": "ipython3",
   "version": "3.10.12"
  }
 },
 "nbformat": 4,
 "nbformat_minor": 2
}
