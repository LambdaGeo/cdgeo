{
 "cells": [
  {
   "cell_type": "markdown",
   "metadata": {},
   "source": [
    "# Capítulo 1 - Relações Espaciais"
   ]
  },
  {
   "cell_type": "markdown",
   "metadata": {},
   "source": [
    "## Introdução \n",
    "\n",
    "As relações espaciais são fundamentais na análise de dados geográficos e no entendimento das dinâmicas espaciais que ocorrem no mundo ao redor. Elas descrevem como diferentes objetos ou fenômenos se relacionam entre si no espaço, influenciando diretamente a percepção, interação e planejamento no ambiente físico.\n",
    "\n",
    "Na geografia, essas relações são observadas em diversos contextos, desde a proximidade entre cidades e a distribuição de recursos naturais até a interação entre indivíduos em uma rede social. A análise das relações espaciais permite identificar padrões, como a concentração de crimes em determinadas áreas urbanas ou a dispersão de espécies em um ecossistema, e compreender os processos subjacentes que moldam esses padrões.\n",
    "\n",
    "Nesse contexto, destaca-se a Lei de Tobler, a qual afirma que **objetos próximos estão mais relacionados do que aqueles distantes**. Embora isso pareça trivial, muitas abordagens tradicionais de estatísticas e aprendizado de máquina desconsideram essa realidade ao assumirem que os dados são independentes. No entanto, a dependência espacial à qual a Lei de Tobler se refere é uma característica única e valiosa dos dados, reforçando a relevância das relações espaciais em análises precisas e significativas. (Bennet e Vale, 2023).\n"
   ]
  },
  {
   "cell_type": "markdown",
   "metadata": {},
   "source": [
    "## Definindo Relações Espaciais\n",
    "\n",
    "Em primeira análise, para definir o que significa ser próximo no espaço (e às vezes no tempo), é importante levar em consideração que os elementos em um conjunto de dados geográficos podem estar relacionados de várias maneiras e que cada um terá sua própria vizinhança bem definida. Assim, para explorar esse conceito, tal como em Bennet e Vale (2023), o elemento cuja vizinhança se deseja definir será denominado **elemento focal**. <br/><br/>\n",
    "\n",
    "\n",
    "<figure style=\"text-align: center\">\n",
    "  <img src=\"../data/images/neigborhood.jpg\" alt=\"Vizinhança e elemento focal\" style=\"width:50%\">\n",
    "  <figcaption style=\"text-align: center\">Adaptado de Bennet e Vale (2023).</figcaption>\n",
    "</figure><br/>\n",
    "\n",
    "\n",
    "Além disso, tem-se que as **relações espaciais são representadas por pesos**, os quais podem ser classificados em: \n",
    "\n",
    " * **binários:** que indicam se uma característica está presente ou não na vizinhança do elemento focal;\n",
    " \n",
    " * **contínuos:** cujas magnitudes determinam a importância da relação ou quão influente é a característica vizinha para a característica focal.\n",
    "\n",
    "\n",
    "Quanto às diferentes maneiras de definir vizinhança, cada uma adequada a diferentes tipos de dados e perguntas de pesquisa, as mais comuns serão exploradas a seguir.\n",
    "\n",
    "\n",
    "\n"
   ]
  }
 ],
 "metadata": {
  "kernelspec": {
   "display_name": ".venv",
   "language": "python",
   "name": "python3"
  },
  "language_info": {
   "codemirror_mode": {
    "name": "ipython",
    "version": 3
   },
   "file_extension": ".py",
   "mimetype": "text/x-python",
   "name": "python",
   "nbconvert_exporter": "python",
   "pygments_lexer": "ipython3",
   "version": "3.10.12"
  }
 },
 "nbformat": 4,
 "nbformat_minor": 2
}
