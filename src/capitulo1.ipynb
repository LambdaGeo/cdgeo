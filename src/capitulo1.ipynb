{
 "cells": [
  {
   "cell_type": "markdown",
   "metadata": {},
   "source": [
    "# Capítulo 1 - Relações Espaciais\n",
    "\n",
    "## Introdução\n",
    "\n",
    "<p style=\"text-align: justify\">\n",
    "    As relações espaciais são fundamentais na análise de dados geográficos e no entendimento das dinâmicas espaciais que ocorrem no mundo ao redor. Elas descrevem como diferentes objetos ou fenômenos se relacionam entre si no espaço, influenciando diretamente a percepção, a interação e o planejamento no ambiente físico.\n",
    "</p>\n",
    "\n",
    "<p style=\"text-align: justify\">\n",
    "    Essas relações são observadas em diversos contextos, desde a proximidade entre cidades e a distribuição de recursos naturais até a interação entre indivíduos em uma rede social. A análise das relações espaciais permite identificar padrões, como a concentração de crimes em determinadas áreas urbanas ou a dispersão de espécies em um ecossistema, e compreender os processos subjacentes que moldam esses padrões.\n",
    "</p>\n",
    "\n",
    "<p style=\"text-align: justify\">\n",
    "    Nesse contexto, destaca-se a Lei de Tobler, a qual afirma que <strong>objetos próximos estão mais relacionados do que aqueles distantes</strong>. Embora isso pareça trivial, muitas abordagens tradicionais de estatísticas e aprendizado de máquina desconsideram essa realidade ao assumirem que os dados são independentes. No entanto, a dependência espacial à qual a Lei de Tobler se refere é uma característica única e valiosa dos dados, reforçando a relevância das relações espaciais em análises precisas e significativas. (Bennet e Vale, 2023).\n",
    "</p>\n"
   ]
  },
  {
   "cell_type": "markdown",
   "metadata": {},
   "source": [
    "## Definindo Relações Espaciais\n",
    "\n",
    "<p style=\"text-align: justify\">\n",
    "  Em primeira análise, para definir o que significa estar relacionado no espaço (e às vezes no tempo), é importante levar em consideração que os elementos em um conjunto de dados geográficos podem estar vinculados de várias maneiras. Assim, a fim de explorar as diferentes abordagens, o elemento cuja vizinhança se deseja definir será aqui denominado <strong>característica focal</strong>, como mostrado na Figura 01.\n",
    "</p>\n",
    "\n",
    "<br/>\n",
    "\n",
    "<figure style=\"text-align: center\">\n",
    "  <h4><strong>Figura 01</strong> - Vizinhança e característica focal.</h4> <br/>\n",
    "  <img src=\"./../images/neighborhood.jpg\" alt=\"Vizinhança e característica focal.\" width=\"80%\"> <br/>\n",
    "  <figcaption style=\"text-align: center\">Fonte: Adaptado de Bennet e Vale (2023).</figcaption>\n",
    "</figure>\n",
    "\n",
    "<br/>\n",
    "\n",
    "<p style=\"text-align: justify\">\n",
    "  Nesse panorama, é importante a noção de que as <strong>relações espaciais são representadas por pesos</strong>, os quais podem ser classificados em: \n",
    "\n",
    "  <ul style=\"text-align: justify\">\n",
    "    <li>\n",
    "      <strong>binários:</strong> que indicam se uma característica está presente ou não na vizinhança da característica focal;\n",
    "    </li>\n",
    "    <li>\n",
    "      <strong>contínuos:</strong> cujas magnitudes determinam a importância da relação ou quão influente é a característica vizinha para a característica focal.\n",
    "  </ul>\n",
    "\n",
    "</p>\n",
    "\n",
    "<p style=\"text-align: justify\">\n",
    "  A partir dessas informações, as maneiras mais comuns de se definir vizinhança são então apresentadas a seguir.\n",
    "</p>\n",
    "\n",
    "\n",
    "\n",
    "\n",
    "\n"
   ]
  },
  {
   "cell_type": "markdown",
   "metadata": {},
   "source": [
    "### Número de Vizinhos\n",
    "\n",
    "<p style=\"text-align: justify\">\n",
    "    Esta abordagem define a vizinhança com base em um <strong>número fixo de vizinhos mais próximos da característica focal</strong>. Nessa perspectiva, é possível que as distâncias entre os elementos variem de acordo com a densidade de características presentes na área de estudo. Quanto mais densa a área, mais próximos os vizinhos estarão da característica focal e, consequentemente, menor a vizinhança. Dessa forma,  ainda que a quantidade de vizinhos especificada pelo usuário seja constante, o tamanho das vizinhanças pode variar bastante, como mostrado na Figura 02.\n",
    "</p>\n",
    "\n",
    "\n",
    "<figure style=\"text-align: center\">\n",
    "  <h4><strong>Figura 02</strong> - Número de vizinhos igual a 4 para áreas com diferentes densidades.</h4> <br/>\n",
    "  <img src=\"./../images/neighbors-number.jpg\" alt=\"Número de vizinhos igual a 4 para áreas com diferentes densidades.\" width=\"80%\"> <br/>\n",
    "  <figcaption style=\"text-align: center\">Fonte: Bennet e Vale (2023).</figcaption>\n",
    "</figure>\n",
    "\n",
    "\n",
    "<p style=\"text-align: justify\">\n",
    "    Este método, amplamente utilizado devido a sua simplicidade, é também conhecido como <strong>k-vizinhos mais próximos</strong>, em que a constante k representa o número especificado de vizinhos. Além disso, a capacidade de adaptação a diferentes densidades de características confere à referida abordagem a denominação <strong>vizinhança adaptativa</strong>.\n",
    "</p>\n",
    "\n",
    "\n",
    "\n"
   ]
  },
  {
   "cell_type": "markdown",
   "metadata": {},
   "source": [
    "<p style=\"text-align: justify\">\n",
    "    Agora que a teoria por trás do método do número de vizinhos foi minimamente discutida, é interessante explorar a aplicação dessa técnica na prática, utilizando <strong>Python</strong>. Com tal objetivo, podemos gerar um conjunto de pontos aleatoriamente e encontrar os 5 vizinhos mais próximos para dois elementos quaisquer desse conjunto. Nessa tarefa, é conveniente a utilização de bibliotecas como <strong>numpy</strong> para operações numéricas, <strong>shapely</strong> para lidar com dados geométricos, <strong>geopandas</strong> para manipulação de dados geográficos, <strong>matplotlib</strong> para visualização e <strong> scikit-learn</strong> para aprendizado de máquina.\n",
    "</p>"
   ]
  },
  {
   "cell_type": "markdown",
   "metadata": {},
   "source": [
    "<p>\n",
    "    Uma vez que as ferramentas já foram elencadas, o exemplo é iniciado com a geração aleatória das coordenadas que servirão de base para a contrução dos pontos:\n",
    "</p>"
   ]
  },
  {
   "cell_type": "code",
   "execution_count": 21,
   "metadata": {},
   "outputs": [],
   "source": [
    "import numpy as np\n",
    "import random\n",
    "\n",
    "np.random.seed(42)\n",
    "num_points = 30\n",
    "x_coords = np.random.rand(num_points) * 10\n",
    "y_coords = np.random.rand(num_points) * 10"
   ]
  },
  {
   "cell_type": "markdown",
   "metadata": {},
   "source": [
    "<p>\n",
    "    Em seguida, a partir das coordenadas geradas, os pontos são então construídos:\n",
    "</p>"
   ]
  },
  {
   "cell_type": "code",
   "execution_count": 22,
   "metadata": {},
   "outputs": [],
   "source": [
    "from shapely.geometry import Point\n",
    "\n",
    "points = [Point(x, y) for x, y in zip(x_coords, y_coords)]"
   ]
  },
  {
   "cell_type": "markdown",
   "metadata": {},
   "source": [
    "<p>\n",
    "    A partir dos pontos construídos, tem-se a geração de um GeoDataFrame e a definição de um sistema de coordenadas:\n",
    "</p>"
   ]
  },
  {
   "cell_type": "code",
   "execution_count": 23,
   "metadata": {},
   "outputs": [],
   "source": [
    "import geopandas as gpd\n",
    "\n",
    "gdf = gpd.GeoDataFrame(geometry=points)\n",
    "gdf.crs = \"EPSG:4326\""
   ]
  },
  {
   "cell_type": "markdown",
   "metadata": {},
   "source": [
    "<p>\n",
    "    Com a plotagem do GeoDataFrame, é ppossível observar os pontos gerados:\n",
    "</p>"
   ]
  },
  {
   "cell_type": "code",
   "execution_count": 38,
   "metadata": {},
   "outputs": [
    {
     "data": {
      "image/png": "[encoded data removed]",
      "text/plain": [
       "<Figure size 800x400 with 1 Axes>"
      ]
     },
     "metadata": {},
     "output_type": "display_data"
    }
   ],
   "source": [
    "import matplotlib.pyplot as plt\n",
    "\n",
    "fig, ax = plt.subplots(figsize=(8, 4))\n",
    "gdf.plot(ax=ax, color='grey')\n",
    "plt.show()"
   ]
  },
  {
   "cell_type": "markdown",
   "metadata": {},
   "source": [
    "<p>\n",
    "    Adiante, tem-se a definição da vizinhança utilizando os 5 vizinhos mais próximos:\n",
    "</p>"
   ]
  },
  {
   "cell_type": "code",
   "execution_count": 25,
   "metadata": {},
   "outputs": [],
   "source": [
    "from sklearn.neighbors import NearestNeighbors\n",
    "\n",
    "k = 5\n",
    "coords = np.array(list(zip(x_coords, y_coords)))\n",
    "\n",
    "nbrs = NearestNeighbors(n_neighbors=k+1, algorithm='ball_tree').fit(coords)\n",
    "distances, indices = nbrs.kneighbors(coords)"
   ]
  },
  {
   "cell_type": "markdown",
   "metadata": {},
   "source": [
    "<p>\n",
    "    Como apresentado na descrição do exemplo, os dois pontos cuja vizinhança se deseja definir são aleatoriamente selecionados:\n",
    "</p>"
   ]
  },
  {
   "cell_type": "code",
   "execution_count": 28,
   "metadata": {},
   "outputs": [],
   "source": [
    "selected_indices = random.sample(range(num_points), 2)\n",
    "colors = ['blue', 'green']"
   ]
  },
  {
   "cell_type": "markdown",
   "metadata": {},
   "source": [
    "<p>\n",
    "    Enfim, tem-se a visualização da vizinhança para os dois pontos em questão:\n",
    "</p>"
   ]
  },
  {
   "cell_type": "code",
   "execution_count": 35,
   "metadata": {},
   "outputs": [
    {
     "data": {
      "image/png": "[encoded data removed]",
      "text/plain": [
       "<Figure size 800x400 with 1 Axes>"
      ]
     },
     "metadata": {},
     "output_type": "display_data"
    }
   ],
   "source": [
    "fig, ax = plt.subplots(figsize=(8, 4))\n",
    "\n",
    "gdf.plot(ax=ax, color='grey', alpha=0.5)\n",
    "for color, i in zip(colors, selected_indices):\n",
    "    point = points[i]\n",
    "    for neighbor_index in indices[i][1:]:\n",
    "        neighbor_point = points[neighbor_index]\n",
    "        ax.plot(\n",
    "            [point.x, neighbor_point.x], \n",
    "            [point.y, neighbor_point.y], \n",
    "            color=color\n",
    "        )\n",
    "    ax.plot(point.x, point.y, 'ro')\n",
    "plt.show()\n"
   ]
  }
 ],
 "metadata": {
  "kernelspec": {
   "display_name": ".venv",
   "language": "python",
   "name": "python3"
  },
  "language_info": {
   "codemirror_mode": {
    "name": "ipython",
    "version": 3
   },
   "file_extension": ".py",
   "mimetype": "text/x-python",
   "name": "python",
   "nbconvert_exporter": "python",
   "pygments_lexer": "ipython3",
   "version": "3.12.1"
  }
 },
 "nbformat": 4,
 "nbformat_minor": 2
}
