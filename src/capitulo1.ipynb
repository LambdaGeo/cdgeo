{
 "cells": [
  {
   "cell_type": "markdown",
   "metadata": {},
   "source": [
    "# Capítulo 1 - Relações Espaciais\n",
    "\n",
    "## Introdução\n",
    "\n",
    "<p style=\"text-align: justify\">\n",
    "    As relações espaciais são fundamentais na análise de dados geográficos e no entendimento das dinâmicas espaciais que ocorrem no mundo ao redor. Elas descrevem como diferentes objetos ou fenômenos se relacionam entre si no espaço, influenciando diretamente a percepção, interação e planejamento no ambiente físico.\n",
    "</p>\n",
    "\n",
    "<p style=\"text-align: justify\">\n",
    "    Na geografia, essas relações são observadas em diversos contextos, desde a proximidade entre cidades e a distribuição de recursos naturais até a interação entre indivíduos em uma rede social. A análise das relações espaciais permite identificar padrões, como a concentração de crimes em determinadas áreas urbanas ou a dispersão de espécies em um ecossistema, e compreender os processos subjacentes que moldam esses padrões.\n",
    "</p>\n",
    "\n",
    "<p style=\"text-align: justify\">\n",
    "    Nesse contexto, destaca-se a Lei de Tobler, a qual afirma que <strong>objetos próximos estão mais relacionados do que aqueles distantes</strong>. Embora isso pareça trivial, muitas abordagens tradicionais de estatísticas e aprendizado de máquina desconsideram essa realidade ao assumirem que os dados são independentes. No entanto, a dependência espacial à qual a Lei de Tobler se refere é uma característica única e valiosa dos dados, reforçando a relevância das relações espaciais em análises precisas e significativas. (Bennet e Vale, 2023).\n",
    "</p>\n"
   ]
  },
  {
   "cell_type": "markdown",
   "metadata": {},
   "source": [
    "## Definindo Relações Espaciais\n",
    "\n",
    "<p style=\"text-align: justify\">\n",
    "  Em primeira análise, para definir o que significa ser próximo no espaço (e às vezes no tempo), é importante levar em consideração que os elementos em um conjunto de dados geográficos podem estar relacionados de várias maneiras e que cada um terá sua própria vizinhança bem definida. Assim, para explorar esse conceito, tal como em Bennet e Vale (2023), o elemento cuja vizinhança se deseja definir será denominado <strong>característica focal</strong>.\n",
    "</p>\n",
    "\n",
    "<br/>\n",
    "\n",
    "<figure style=\"text-align: center\">\n",
    "  <img src=\"./../images/neighborhood.jpg\" alt=\"Vizinhança e característica focal.\" width=\"80%\">\n",
    "  <figcaption style=\"text-align: center\">Adaptado de Bennet e Vale (2023).</figcaption>\n",
    "</figure>\n",
    "\n",
    "<br/>\n",
    "\n",
    "<p style=\"text-align: justify\">\n",
    "  Além disso, tem-se que as <strong>relações espaciais são representadas por pesos</strong>, os quais podem ser classificados em: \n",
    "\n",
    "  <ul style=\"text-align: justify\">\n",
    "    <li>\n",
    "      <strong>binários:</strong> que indicam se uma característica está presente ou não na vizinhança da característica focal;\n",
    "    </li>\n",
    "    <li>\n",
    "      <strong>contínuos:</strong> cujas magnitudes determinam a importância da relação ou quão influente é a característica vizinha para a característica focal.\n",
    "  </ul>\n",
    "\n",
    "</p>\n",
    "\n",
    "<p style=\"text-align: justify\">\n",
    "  Quanto às diferentes maneiras de definir vizinhança, cada uma adequada a diferentes tipos de dados e perguntas de pesquisa, as mais comuns serão exploradas a seguir.\n",
    "</p>\n",
    "\n",
    "\n",
    "\n",
    "\n",
    "\n"
   ]
  }
 ],
 "metadata": {
  "kernelspec": {
   "display_name": ".venv",
   "language": "python",
   "name": "python3"
  },
  "language_info": {
   "codemirror_mode": {
    "name": "ipython",
    "version": 3
   },
   "file_extension": ".py",
   "mimetype": "text/x-python",
   "name": "python",
   "nbconvert_exporter": "python",
   "pygments_lexer": "ipython3",
   "version": "3.12.1"
  }
 },
 "nbformat": 4,
 "nbformat_minor": 2
}
